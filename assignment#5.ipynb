{
 "cells": [
  {
   "cell_type": "code",
   "execution_count": 1,
   "metadata": {},
   "outputs": [
    {
     "name": "stdout",
     "output_type": "stream",
     "text": [
      "enter a number to calculate its factiorial : 5\n",
      "120\n"
     ]
    }
   ],
   "source": [
    "def factorial(num):\n",
    "    if num == 0:\n",
    "        return 1\n",
    "    else:\n",
    "        return num * factorial(num-1)\n",
    "num=int(input(\"enter a number to calculate its factiorial : \"))\n",
    "print(factorial(num))\n"
   ]
  },
  {
   "cell_type": "code",
   "execution_count": 2,
   "metadata": {},
   "outputs": [
    {
     "name": "stdout",
     "output_type": "stream",
     "text": [
      "enter any string : PythoN PrograMMing\n",
      "Original String :  PythoN PrograMMing\n",
      "No. of Upper case characters :  5\n",
      "No. of Lower case Characters :  12\n"
     ]
    }
   ],
   "source": [
    "def Upplow(s):\n",
    "    ch={\"Uppercase\":0, \"Lowercase\":0}\n",
    "    for c in s:\n",
    "        if c.isupper():\n",
    "           ch[\"Uppercase\"]+=1\n",
    "        elif c.islower():\n",
    "           ch[\"Lowercase\"]+=1\n",
    "        else:\n",
    "           pass\n",
    "    print (\"Original String : \", s)\n",
    "    print (\"No. of Upper case characters : \", ch[\"Uppercase\"])\n",
    "    print (\"No. of Lower case Characters : \", ch[\"Lowercase\"])\n",
    "strn=input(\"enter any string : \")\n",
    "Upplow(strn)\n"
   ]
  },
  {
   "cell_type": "code",
   "execution_count": 9,
   "metadata": {},
   "outputs": [
    {
     "name": "stdout",
     "output_type": "stream",
     "text": [
      "[76, 44, 12, 90]\n"
     ]
    }
   ],
   "source": [
    "def evens(lst):\n",
    "    ev=[]\n",
    "    for num in lst:\n",
    "        if num % 2==0:\n",
    "            ev.append(num)\n",
    "    return ev \n",
    "print(evens([3,45,76,23,44,53,12,90]))"
   ]
  },
  {
   "cell_type": "code",
   "execution_count": 18,
   "metadata": {},
   "outputs": [
    {
     "name": "stdout",
     "output_type": "stream",
     "text": [
      "True\n"
     ]
    }
   ],
   "source": [
    "def Palindrome(strng):\n",
    "    leftc = 0\n",
    "    rightc = len(strng) - 1\n",
    "    \n",
    "    while rightc >= leftc:\n",
    "        if strng[leftc] != strng[rightc]:\n",
    "            return False\n",
    "        leftc += 1\n",
    "        rightc -= 1\n",
    "    return True\n",
    "print(Palindrome('level')) \n"
   ]
  },
  {
   "cell_type": "code",
   "execution_count": 26,
   "metadata": {},
   "outputs": [
    {
     "name": "stdout",
     "output_type": "stream",
     "text": [
      "enter number to check 13\n",
      "this is a prime number\n"
     ]
    }
   ],
   "source": [
    "def prime(num):\n",
    "    if (num==1):\n",
    "        return (\"this is not prime number\")\n",
    "    elif (num==2):\n",
    "        return (\"its a prime no.\");\n",
    "    else:\n",
    "        for x in range(2,num):\n",
    "            if(num % x==0):\n",
    "                return (\"this is not prime number\")\n",
    "        return (\"this is a prime number\")           \n",
    "num=int(input(\"enter number to check \"))\n",
    "print(prime(num))\n"
   ]
  },
  {
   "cell_type": "code",
   "execution_count": 45,
   "metadata": {},
   "outputs": [
    {
     "name": "stdout",
     "output_type": "stream",
     "text": [
      "tomato\n",
      "\n",
      "potato\n",
      "\n",
      "onion\n",
      "\n",
      "flour\n",
      "\n",
      "spices\n",
      "\n"
     ]
    }
   ],
   "source": [
    "def shoppinglist(*item):\n",
    "    for n in item:\n",
    "     print (n + '\\n')       \n",
    "shoppinglist('tomato','potato','onion','flour','spices')"
   ]
  },
  {
   "cell_type": "code",
   "execution_count": null,
   "metadata": {},
   "outputs": [],
   "source": []
  }
 ],
 "metadata": {
  "kernelspec": {
   "display_name": "Python 3",
   "language": "python",
   "name": "python3"
  },
  "language_info": {
   "codemirror_mode": {
    "name": "ipython",
    "version": 3
   },
   "file_extension": ".py",
   "mimetype": "text/x-python",
   "name": "python",
   "nbconvert_exporter": "python",
   "pygments_lexer": "ipython3",
   "version": "3.7.4"
  }
 },
 "nbformat": 4,
 "nbformat_minor": 2
}
