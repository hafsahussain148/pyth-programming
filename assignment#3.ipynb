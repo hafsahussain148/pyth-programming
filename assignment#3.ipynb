{
 "cells": [
  {
   "cell_type": "code",
   "execution_count": 15,
   "metadata": {},
   "outputs": [
    {
     "name": "stdout",
     "output_type": "stream",
     "text": [
      "\t\t\tCalculator\n",
      "select number in accordance of function you want:\n",
      "1 for addition\n",
      "2 for subtraction\n",
      "3 for multiplication\n",
      "4 for division\n",
      "5 for power\n",
      "6\n",
      "invalid selection!!\n"
     ]
    }
   ],
   "source": [
    "print(\"\\t\\t\\tCalculator\\nselect number in accordance of function you want:\\n1 for addition\\n2 for subtraction\\n3 for multiplication\\n4 for division\\n5 for power\")\n",
    "ch=int(input())\n",
    "\n",
    "if ch==1:\n",
    " a=float(input(\"enter first number:\"))\n",
    " b=float(input(\"enter second number:\"))\n",
    " print(\"Addition of numbers = \", a + b)\n",
    "elif ch==2:\n",
    " a=float(input(\"enter first number:\"))\n",
    " b=float(input(\"enter second number:\"))\n",
    " print(\"Subtraction of numbers = \",a-b)\n",
    "elif ch==3:\n",
    " a=float(input(\"enter first number:\"))\n",
    " b=float(input(\"enter second number:\"))\n",
    " print(\"Multiplication of numbers = \",a*b)\n",
    "elif ch==4:\n",
    " a=float(input(\"enter first number:\"))\n",
    " b=float(input(\"enter second number:\"))\n",
    " print(\"Division of numbers = \",a-b)\n",
    "elif ch==5:\n",
    " a=float(input(\"enter first number:\"))\n",
    " b=float(input(\"enter second number:\"))\n",
    " print(\"power = \",pow(a,b))\n",
    "else :\n",
    " print(\"invalid selection!!\")\n",
    "\n"
   ]
  },
  {
   "cell_type": "code",
   "execution_count": 13,
   "metadata": {},
   "outputs": [
    {
     "name": "stdout",
     "output_type": "stream",
     "text": [
      "['1', '5', '13', '34', '89']\n"
     ]
    }
   ],
   "source": [
    "a = ['dm', '1', 'fm', 'im', '5', 'd', '13', 's', '34', 'h', '89']\n",
    " \n",
    "new=[]\n",
    "for i in a:\n",
    " if i.isdigit():\n",
    "  new.append(i)\n",
    "print(new)"
   ]
  },
  {
   "cell_type": "code",
   "execution_count": 46,
   "metadata": {},
   "outputs": [
    {
     "name": "stdout",
     "output_type": "stream",
     "text": [
      "{56: 1, 7: 8, 4: 3, 1: 4}\n",
      "{56: 1, 7: 8, 4: 3, 1: 4, 3: 5}\n"
     ]
    }
   ],
   "source": [
    "a={56:1,7:6,4:3,1:4,7:8}\n",
    "print(a)\n",
    "a.update({3:5})\n",
    "print(a)"
   ]
  },
  {
   "cell_type": "code",
   "execution_count": 51,
   "metadata": {},
   "outputs": [
    {
     "name": "stdout",
     "output_type": "stream",
     "text": [
      "22\n"
     ]
    }
   ],
   "source": [
    "dic={'ho':1,7:6,'kil':3,'kin':4,'joe':8}\n",
    "print(sum(dic.values()))"
   ]
  },
  {
   "cell_type": "code",
   "execution_count": 60,
   "metadata": {},
   "outputs": [
    {
     "name": "stdout",
     "output_type": "stream",
     "text": [
      "{78, 34, 67, 54}\n"
     ]
    }
   ],
   "source": [
    "a = [54,67,54,78,34,67]\n",
    "\n",
    "dupl = set()\n",
    "sngl = []\n",
    "for i in a:\n",
    " if i not in dupl:\n",
    "        sngl.append(i)\n",
    "        dupl.add(i)\n",
    "\n",
    "print(dupl)"
   ]
  },
  {
   "cell_type": "code",
   "execution_count": 64,
   "metadata": {},
   "outputs": [
    {
     "name": "stdout",
     "output_type": "stream",
     "text": [
      "hi\n",
      "key not found\n"
     ]
    }
   ],
   "source": [
    "dic={'ho':1,7:6,'kil':3,'kin':4,'joe':8}\n",
    "key=input()\n",
    "for i in dic:\n",
    "    if i==key:\n",
    "        print(\"key exists in the dictionary\")\n",
    "else:\n",
    "            print(\"key not found\")"
   ]
  },
  {
   "cell_type": "code",
   "execution_count": null,
   "metadata": {},
   "outputs": [],
   "source": []
  }
 ],
 "metadata": {
  "kernelspec": {
   "display_name": "Python 3",
   "language": "python",
   "name": "python3"
  },
  "language_info": {
   "codemirror_mode": {
    "name": "ipython",
    "version": 3
   },
   "file_extension": ".py",
   "mimetype": "text/x-python",
   "name": "python",
   "nbconvert_exporter": "python",
   "pygments_lexer": "ipython3",
   "version": "3.7.4"
  }
 },
 "nbformat": 4,
 "nbformat_minor": 2
}
