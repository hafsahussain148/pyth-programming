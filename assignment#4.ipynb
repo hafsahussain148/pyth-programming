{
 "cells": [
  {
   "cell_type": "code",
   "execution_count": 1,
   "metadata": {},
   "outputs": [
    {
     "name": "stdout",
     "output_type": "stream",
     "text": [
      "{'first_name': 'ahmed', 'last_name': 'ali', 'age': 20, 'city': 'karachi'}\n",
      "{'first_name': 'ahmed', 'last_name': 'ali', 'age': 20, 'city': 'karachi', 'qualification': 'middle school'}\n",
      "{'first_name': 'ahmed', 'last_name': 'ali', 'age': 20, 'city': 'karachi', 'qualification': 'high school'}\n",
      "{'first_name': 'ahmed', 'last_name': 'ali', 'age': 20, 'city': 'karachi'}\n"
     ]
    }
   ],
   "source": [
    "info={'first_name':'ahmed','last_name':'ali','age':20,'city':'karachi'}\n",
    "print(info)\n",
    "info.update({'qualification':'middle school'})\n",
    "print(info)\n",
    "info.update({'qualification':'high school'})\n",
    "print(info)\n",
    "del info['qualification']\n",
    "print(info)"
   ]
  },
  {
   "cell_type": "code",
   "execution_count": 2,
   "metadata": {},
   "outputs": [
    {
     "name": "stdout",
     "output_type": "stream",
     "text": [
      "cities are = {'kuala_lumpur', 'karachi', 'istanbul', 'islamabad'}\n",
      "islamabad= {'country': 'pakistan', 'population': 43000, 'fact': '2nd most beautiful capital in the world'} \n",
      " karachi= {'country': 'pakistan', 'population': 56000, 'fact': 'city of lights'} \n",
      " istanbul= {'country': 'turkey', 'population': 66000, 'fact': 'divided in asia and europe'} \n",
      " kuala_lumpur= {'country': 'malaysia', 'population': 58000, 'fact': 'capital of malaysia'}\n"
     ]
    }
   ],
   "source": [
    "cities={'islamabad','karachi','istanbul','kuala_lumpur'}\n",
    "print(\"cities are =\",cities)\n",
    "islamabad={'country':'pakistan','population':43000,'fact':'2nd most beautiful capital in the world'}\n",
    "karachi={'country':'pakistan','population':56000,'fact':'city of lights'}\n",
    "istanbul={'country':'turkey','population':66000,'fact':'divided in asia and europe'}\n",
    "kuala_lumpur={'country':'malaysia','population':58000,'fact':'capital of malaysia'}\n",
    "print(\"islamabad=\",islamabad,\"\\n\",\"karachi=\",karachi,\"\\n\",\"istanbul=\",istanbul,\"\\n\",\"kuala_lumpur=\",kuala_lumpur)"
   ]
  },
  {
   "cell_type": "code",
   "execution_count": 3,
   "metadata": {
    "scrolled": true
   },
   "outputs": [
    {
     "name": "stdout",
     "output_type": "stream",
     "text": [
      "enter your age : 3\n",
      "ticket is free\n",
      "enter your age : 11\n",
      "ticket if of $10\n",
      "enter your age : 40\n",
      "ticket is of $15\n"
     ]
    }
   ],
   "source": [
    "num=[1,2,3]\n",
    "for i in num:\n",
    "    age=int(input(\"enter your age : \"))\n",
    "    if age <= 3 :\n",
    "        print(\"ticket is free\")\n",
    "        \n",
    "    elif age > 3 and age < 12:\n",
    "        print(\"ticket if of $10\")\n",
    "        \n",
    "    else:\n",
    "        print(\"ticket is of $15\")\n",
    "              "
   ]
  },
  {
   "cell_type": "code",
   "execution_count": 4,
   "metadata": {},
   "outputs": [
    {
     "name": "stdout",
     "output_type": "stream",
     "text": [
      "one of my favorite books is Alice in wonderland\n",
      "enter your fav book:harry potter\n",
      "one of my favorite books is harry potter\n"
     ]
    }
   ],
   "source": [
    "def favorite_book(title):\n",
    " print(\"one of my favorite books is\",title)\n",
    "\n",
    "favorite_book(\"Alice in wonderland\") \n",
    "favorite_book(input(\"enter your fav book:\"))"
   ]
  },
  {
   "cell_type": "code",
   "execution_count": 1,
   "metadata": {},
   "outputs": [
    {
     "name": "stdout",
     "output_type": "stream",
     "text": [
      "Guess a number between 1 and 30 until you get it right : 10\n",
      "choose smaller\n",
      "Guess a number between 1 and 30 until you get it right : 7\n",
      "choose smaller\n",
      "Guess a number between 1 and 30 until you get it right : 5\n",
      "choose greater\n",
      "Guess a number between 1 and 30 until you get it right : 6\n",
      "choose greater\n",
      "Well guessed!\n"
     ]
    }
   ],
   "source": [
    "import random\n",
    "num= random.randint(1, 30)\n",
    "guess_n =0\n",
    "while num != guess_n:\n",
    "    guess_n = int(input('Guess a number between 1 and 30 until you get it right : '))\n",
    "    if num < guess_n:\n",
    "        print(\"choose smaller\")\n",
    "    else :\n",
    "     print(\"choose greater\")\n",
    "        \n",
    "print('Well guessed!')"
   ]
  },
  {
   "cell_type": "code",
   "execution_count": null,
   "metadata": {},
   "outputs": [],
   "source": []
  }
 ],
 "metadata": {
  "kernelspec": {
   "display_name": "Python 3",
   "language": "python",
   "name": "python3"
  },
  "language_info": {
   "codemirror_mode": {
    "name": "ipython",
    "version": 3
   },
   "file_extension": ".py",
   "mimetype": "text/x-python",
   "name": "python",
   "nbconvert_exporter": "python",
   "pygments_lexer": "ipython3",
   "version": "3.7.4"
  }
 },
 "nbformat": 4,
 "nbformat_minor": 2
}
