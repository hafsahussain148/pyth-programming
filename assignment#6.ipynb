{
 "cells": [
  {
   "attachments": {},
   "cell_type": "markdown",
   "metadata": {},
   "source": [
    "# OBJECT ORIENTED PROGRAMMING:\n",
    "Python is an object-oriented programming language. Object-oriented programming is a way of conceptualizing a program as groups of objects that interact with one another. In Python, we can easily create and use classes and objects.\n",
    "\n"
   ]
  },
  {
   "cell_type": "markdown",
   "metadata": {},
   "source": [
    "# BENEFITS OF OOP\n",
    "-Reuse of code through inheritance\n",
    "-Reuse also enables faster development\n",
    "-Effective problem solving"
   ]
  },
  {
   "cell_type": "markdown",
   "metadata": {},
   "source": [
    "# Differentiate between function and method\n",
    "The only main difference between function and method is that we call Python method on an object, but it’s not the same with functions."
   ]
  },
  {
   "attachments": {},
   "cell_type": "markdown",
   "metadata": {},
   "source": [
    "# Define the following terms:\n",
    "CLASS: The definitions of the attributes and methods of an object are organized into a class. Thus, a class is the generic definition for a set of similar objects.\n",
    "OBJECT: A unique instance of a data structure that is defined by its class. \n",
    "ATTRIBUTE: Attributes are frequently referred to as members or properties.\n",
    "BEHAVIOR: Behaviors are actions that can occur on an object. "
   ]
  },
  {
   "cell_type": "code",
   "execution_count": 32,
   "metadata": {},
   "outputs": [
    {
     "name": "stdout",
     "output_type": "stream",
     "text": [
      "model is 123\n",
      "color is black\n",
      "name is hc\n",
      "car is started\n",
      "car is stopped\n",
      "car is slow\n",
      "car is fast\n"
     ]
    }
   ],
   "source": [
    "class car:\n",
    "    model=\"123\";\n",
    "    color=\"black\";\n",
    "    name=\"hc\";\n",
    "    def start(st):\n",
    "        print(\"car is started\");\n",
    "    def stop(sp): \n",
    "        print(\"car is stopped\");\n",
    "    def slow(l): \n",
    "        print(\"car is slow\");\n",
    "    def fast(f): \n",
    "        print(\"car is fast\");\n",
    " \n",
    "\n",
    "obj=car() \n",
    "print(\"model is \" + obj.model)\n",
    "print(\"color is \" + obj.color)\n",
    "print(\"name is \" + obj.name)\n",
    "obj.start()\n",
    "obj.stop()\n",
    "obj.slow()\n",
    "obj.fast()\n"
   ]
  },
  {
   "cell_type": "code",
   "execution_count": null,
   "metadata": {},
   "outputs": [],
   "source": []
  }
 ],
 "metadata": {
  "kernelspec": {
   "display_name": "Python 3",
   "language": "python",
   "name": "python3"
  },
  "language_info": {
   "codemirror_mode": {
    "name": "ipython",
    "version": 3
   },
   "file_extension": ".py",
   "mimetype": "text/x-python",
   "name": "python",
   "nbconvert_exporter": "python",
   "pygments_lexer": "ipython3",
   "version": "3.7.4"
  }
 },
 "nbformat": 4,
 "nbformat_minor": 2
}
